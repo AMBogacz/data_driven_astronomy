{
  "nbformat": 4,
  "nbformat_minor": 0,
  "metadata": {
    "colab": {
      "name": "DDA_Week1.ipynb",
      "provenance": [],
      "collapsed_sections": [],
      "authorship_tag": "ABX9TyP7OODUGslhq3hVY4cenTlO",
      "include_colab_link": true
    },
    "kernelspec": {
      "name": "python3",
      "display_name": "Python 3"
    },
    "language_info": {
      "name": "python"
    }
  },
  "cells": [
    {
      "cell_type": "markdown",
      "metadata": {
        "id": "view-in-github",
        "colab_type": "text"
      },
      "source": [
        "<a href=\"https://colab.research.google.com/github/AMBogacz/data_driven_astronomy/blob/main/DDA_Week1.ipynb\" target=\"_parent\"><img src=\"https://colab.research.google.com/assets/colab-badge.svg\" alt=\"Open In Colab\"/></a>"
      ]
    },
    {
      "cell_type": "markdown",
      "source": [
        "### Mean calculation"
      ],
      "metadata": {
        "id": "fso0D-2tN6BH"
      }
    },
    {
      "cell_type": "code",
      "execution_count": 1,
      "metadata": {
        "id": "Uq01tAGoGeaC"
      },
      "outputs": [],
      "source": [
        "def calculate_mean(a):\n",
        "  return sum(a) / len(a)"
      ]
    },
    {
      "cell_type": "code",
      "source": [
        "mean = calculate_mean([1,2.2,0.3,3.4,7.9])\n",
        "mean"
      ],
      "metadata": {
        "colab": {
          "base_uri": "https://localhost:8080/"
        },
        "id": "JquP_Fx9OH-C",
        "outputId": "b1b5b5d7-05bb-4da7-def2-80b333ca9049"
      },
      "execution_count": 2,
      "outputs": [
        {
          "output_type": "execute_result",
          "data": {
            "text/plain": [
              "2.96"
            ]
          },
          "metadata": {},
          "execution_count": 2
        }
      ]
    },
    {
      "cell_type": "code",
      "source": [
        ""
      ],
      "metadata": {
        "id": "Vf1281VnOPhp"
      },
      "execution_count": null,
      "outputs": []
    }
  ]
}